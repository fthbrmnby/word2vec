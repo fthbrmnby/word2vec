{
 "cells": [
  {
   "cell_type": "code",
   "execution_count": 1,
   "metadata": {},
   "outputs": [],
   "source": [
    "import os\n",
    "import re\n",
    "import urllib\n",
    "import tqdm\n",
    "import patoolib"
   ]
  },
  {
   "cell_type": "code",
   "execution_count": 2,
   "metadata": {},
   "outputs": [],
   "source": [
    "def download_hook(t):\n",
    "    last_b = [0]\n",
    "\n",
    "    def update_to(b=1, bsize=1, tsize=None):\n",
    "        if tsize is not None:\n",
    "            t.total = tsize\n",
    "        t.update((b - last_b[0]) * bsize)\n",
    "        last_b[0] = b\n",
    "\n",
    "    return update_to"
   ]
  },
  {
   "cell_type": "code",
   "execution_count": 3,
   "metadata": {},
   "outputs": [],
   "source": [
    "def maybe_download(url, filename, data_folder, filesize=43467035):\n",
    "    \n",
    "    def download_file(url, filename, save_path):\n",
    "        with tqdm.tqdm() as t:\n",
    "            hook = download_hook(t)\n",
    "            urllib.request.urlretrieve(url=url+filename, filename=file_save_path, reporthook=hook)\n",
    "    \n",
    "    \n",
    "    file_save_path = os.path.join(data_folder, filename)\n",
    "    \n",
    "    if not os.path.exists(data_folder):\n",
    "        os.mkdir(data_folder)\n",
    "    \n",
    "    if os.path.exists(file_save_path):\n",
    "        print(\"File already exists. Checking data integrity...\")\n",
    "        if os.path.getsize(file_save_path) == filesize:\n",
    "            print(\"File is OK.\")\n",
    "        else:\n",
    "            print(\"File seems to be changed. Downloading again!\")\n",
    "            os.remove(file_save_path)\n",
    "            download_file(url, filename, file_save_path)\n",
    "    else:\n",
    "        print(\"File couldn't been found. Downloading now!\")\n",
    "        download_file(url, filename, file_save_path)"
   ]
  },
  {
   "cell_type": "code",
   "execution_count": 4,
   "metadata": {},
   "outputs": [],
   "source": [
    "url = \"http://www.kemik.yildiz.edu.tr/data/File/\"\n",
    "filename = \"42bin_haber.rar\"\n",
    "data_folder = \"raw_text_data\""
   ]
  },
  {
   "cell_type": "code",
   "execution_count": 5,
   "metadata": {},
   "outputs": [
    {
     "name": "stdout",
     "output_type": "stream",
     "text": [
      "File already exists. Checking data integrity...\n",
      "File is OK.\n"
     ]
    }
   ],
   "source": [
    "maybe_download(url, filename, data_folder)"
   ]
  },
  {
   "cell_type": "code",
   "execution_count": 23,
   "metadata": {
    "scrolled": false
   },
   "outputs": [
    {
     "name": "stdout",
     "output_type": "stream",
     "text": [
      "patool: Extracting raw_text_data\\42bin_haber.rar ...\n",
      "patool: running \"C:\\Program Files\\WinRAR\\rar.EXE\" x -- C:\\Users\\fatih.barmanbay\\Documents\\word2vec\\raw_text_data\\42bin_haber.rar\n",
      "patool:     with cwd=raw_text_data\n",
      "patool: ... raw_text_data\\42bin_haber.rar extracted to `raw_text_data'.\n"
     ]
    },
    {
     "data": {
      "text/plain": [
       "'raw_text_data'"
      ]
     },
     "execution_count": 23,
     "metadata": {},
     "output_type": "execute_result"
    }
   ],
   "source": [
    "patoolib.extract_archive(os.path.join(data_folder, filename), verbosity=1, outdir=data_folder)"
   ]
  },
  {
   "cell_type": "code",
   "execution_count": 6,
   "metadata": {},
   "outputs": [],
   "source": [
    "def clean_text(text):\n",
    "    text = text.lower()\n",
    "    text = re.sub(r'\\W+', ' ', text)\n",
    "    return text.strip()"
   ]
  },
  {
   "cell_type": "code",
   "execution_count": 7,
   "metadata": {},
   "outputs": [],
   "source": [
    "# This takes some time to complete\n",
    "root_folder = os.path.join(data_folder, filename.partition('.rar')[0], 'news')\n",
    "all_text = \"\"\n",
    "for sub_folder in os.listdir(root_folder):\n",
    "    for file in os.listdir(os.path.join(root_folder, sub_folder)):\n",
    "        f = open(os.path.join(root_folder, sub_folder,  file), 'r', encoding=\"utf-8\")\n",
    "        text = f.read()\n",
    "        text = clean_text(text)\n",
    "        all_text = \" \".join([all_text, text])\n",
    "        f.close()\n",
    "all_text = all_text.strip()"
   ]
  },
  {
   "cell_type": "code",
   "execution_count": 9,
   "metadata": {
    "collapsed": true
   },
   "outputs": [],
   "source": [
    "processed_file_path = \"processed_text_data\"\n",
    "if not os.path.exists(processed_file_path):\n",
    "    os.mkdir(processed_file_path)\n",
    "\n",
    "with open(os.path.join(processed_file_path, \"text\"), 'w') as f:\n",
    "    f.write(all_text)"
   ]
  }
 ],
 "metadata": {
  "kernelspec": {
   "display_name": "Python 3",
   "language": "python",
   "name": "python3"
  },
  "language_info": {
   "codemirror_mode": {
    "name": "ipython",
    "version": 3
   },
   "file_extension": ".py",
   "mimetype": "text/x-python",
   "name": "python",
   "nbconvert_exporter": "python",
   "pygments_lexer": "ipython3",
   "version": "3.6.5"
  }
 },
 "nbformat": 4,
 "nbformat_minor": 2
}
